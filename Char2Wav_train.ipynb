{
 "cells": [
  {
   "cell_type": "code",
   "execution_count": null,
   "metadata": {
    "scrolled": true
   },
   "outputs": [
    {
     "name": "stdout",
     "output_type": "stream",
     "text": [
      "['/var/Sources/experiments/core/tts/Alternative', '/home/kaz/anaconda3/envs/core/lib/python37.zip', '/home/kaz/anaconda3/envs/core/lib/python3.7', '/home/kaz/anaconda3/envs/core/lib/python3.7/lib-dynload', '', '/home/kaz/.local/lib/python3.7/site-packages', '/home/kaz/anaconda3/envs/core/lib/python3.7/site-packages', '/home/kaz/anaconda3/envs/core/lib/python3.7/site-packages/Mako-1.0.7-py3.7.egg', '/home/kaz/anaconda3/envs/core/lib/python3.7/site-packages/IPython/extensions', '/home/kaz/.ipython', '../../']\n"
     ]
    }
   ],
   "source": [
    "%load_ext autoreload\n",
    "%autoreload 2\n",
    "%matplotlib inline\n",
    "import os\n",
    "import sys\n",
    "import pickle\n",
    "sys.path.append('../../')\n",
    "print(sys.path)\n",
    "import IPython.display as ipd\n",
    "import numpy as np\n",
    "from tools.libaudio.feature import melspectrogram\n",
    "from tools.libaudio.display import show_spec, show_mel\n",
    "from mlutils.utils import plot, plots, to_onehot\n",
    "from models.mlmodeldic import best_model_path_and_settings\n",
    "import torch\n",
    "from tts.Alternative.neuravoice2 import NewTTS, Encoder\n",
    "from tts.Alternative.train import train_char2wav\n",
    "from tts.Alternative.dataset import NeuraVoiceDataset\n",
    "from torch.utils.data import DataLoader\n",
    "import time"
   ]
  },
  {
   "cell_type": "code",
   "execution_count": null,
   "metadata": {},
   "outputs": [],
   "source": [
    "cuda = 2\n",
    "batch_size = 16\n",
    "model_version = 1\n",
    "model_name = f'newtts_ver{model_version}'"
   ]
  },
  {
   "cell_type": "code",
   "execution_count": null,
   "metadata": {},
   "outputs": [],
   "source": [
    "dataset = NeuraVoiceDataset(batch_size=batch_size)\n",
    "loader = DataLoader(\n",
    "    dataset, batch_size=batch_size, shuffle=False, collate_fn=dataset.char_to_wav, drop_last=False, num_workers=1)"
   ]
  },
  {
   "cell_type": "code",
   "execution_count": null,
   "metadata": {
    "scrolled": true
   },
   "outputs": [],
   "source": [
    "model_path, settings = best_model_path_and_settings(model_name, 'loss_ave', is_lower_better=True)\n",
    "model_path, settings"
   ]
  },
  {
   "cell_type": "code",
   "execution_count": null,
   "metadata": {},
   "outputs": [],
   "source": [
    "device = f'cuda:{cuda}'"
   ]
  },
  {
   "cell_type": "code",
   "execution_count": null,
   "metadata": {},
   "outputs": [],
   "source": [
    "use_best_model = False"
   ]
  },
  {
   "cell_type": "code",
   "execution_count": null,
   "metadata": {
    "scrolled": true
   },
   "outputs": [],
   "source": [
    "if model_path and use_best_model:\n",
    "    encoder = Encoder.init_from_settings(settings, model_path, device=device, **{'version': model_version})\n",
    "    decoder = NewTTS.init_from_settings(settings, model_path, device=device, **{'version': model_version})\n",
    "else:                             \n",
    "    encoder = Encoder(K=10, hidden_size=512, bit=9, version=model_version, device=device)\n",
    "    decoder = NewTTS(K=10, hidden_size=512, bit=9, version=model_version, device=device)"
   ]
  },
  {
   "cell_type": "code",
   "execution_count": null,
   "metadata": {
    "scrolled": true
   },
   "outputs": [],
   "source": [
    "losses, loss_aves, model = train_char2wav(\n",
    "    encoder, decoder, loader, n_epoch=100, model_name=model_name,\n",
    "    seqlen=1000, stride=100, device=device, lr=1e-3, verbose=False)"
   ]
  },
  {
   "cell_type": "code",
   "execution_count": null,
   "metadata": {},
   "outputs": [],
   "source": [
    "#plot(loss_aves)"
   ]
  },
  {
   "cell_type": "code",
   "execution_count": null,
   "metadata": {},
   "outputs": [],
   "source": [
    "#plots([losses, loss_aves], labels=['losses', 'loss_aves'])"
   ]
  },
  {
   "cell_type": "code",
   "execution_count": null,
   "metadata": {},
   "outputs": [],
   "source": []
  }
 ],
 "metadata": {
  "kernelspec": {
   "display_name": "Python 3",
   "language": "python",
   "name": "python3"
  },
  "language_info": {
   "codemirror_mode": {
    "name": "ipython",
    "version": 3
   },
   "file_extension": ".py",
   "mimetype": "text/x-python",
   "name": "python",
   "nbconvert_exporter": "python",
   "pygments_lexer": "ipython3",
   "version": "3.7.3"
  }
 },
 "nbformat": 4,
 "nbformat_minor": 2
}
