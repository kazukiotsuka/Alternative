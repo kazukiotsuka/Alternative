{
 "cells": [
  {
   "cell_type": "code",
   "execution_count": 1,
   "metadata": {},
   "outputs": [
    {
     "name": "stdout",
     "output_type": "stream",
     "text": [
      "['/var/Sources/experiments/core/tts/Alternative', '/home/kaz/anaconda3/envs/core/lib/python37.zip', '/home/kaz/anaconda3/envs/core/lib/python3.7', '/home/kaz/anaconda3/envs/core/lib/python3.7/lib-dynload', '', '/home/kaz/.local/lib/python3.7/site-packages', '/home/kaz/anaconda3/envs/core/lib/python3.7/site-packages', '/home/kaz/anaconda3/envs/core/lib/python3.7/site-packages/Mako-1.0.7-py3.7.egg', '/home/kaz/anaconda3/envs/core/lib/python3.7/site-packages/IPython/extensions', '/home/kaz/.ipython', '../../']\n"
     ]
    }
   ],
   "source": [
    "%load_ext autoreload\n",
    "%autoreload 2\n",
    "%matplotlib inline\n",
    "import os\n",
    "import sys\n",
    "import pickle\n",
    "sys.path.append('../../')\n",
    "print(sys.path)\n",
    "import IPython.display as ipd\n",
    "import numpy as np\n",
    "from tools.libaudio.feature import melspectrogram\n",
    "from tools.libaudio.display import show_spec, show_mel\n",
    "from mlutils.utils import plot, plots, to_onehot\n",
    "from models.mlmodeldic import best_model_path_and_settings\n",
    "import torch\n",
    "from tts.Alternative.neuravoice import CharToMel\n",
    "from tts.Alternative.train import train_char2mel\n",
    "from tts.Alternative.dataset import NeuraVoiceDataset\n",
    "from torch.utils.data import DataLoader, SubsetRandomSampler\n",
    "from models.phoneme import Phoneme43\n",
    "import time"
   ]
  },
  {
   "cell_type": "markdown",
   "metadata": {},
   "source": [
    "####  Sequence Generator with location-based Attention\n",
    "\n",
    "```\n",
    "x: input sequence\n",
    "y: mel spectrum sequence\n",
    "U: char length\n",
    "c: char sequence\n",
    "T: timestep length of input x\n",
    "wt: window vector into c at timestep t\n",
    "φ(t, u): window weight of cu at timestep t\n",
    "αt: parameters control the importance of the window within the mixture\n",
    "βt: parameters control the width of the window\n",
    "κt: parameters control the location of the window\n",
    "(eq.46): discrete convolution with a mixture of K Gaussian function\n",
    "\n",
    "xt ∈ R×R×{0,1}\n",
    "\n",
    "h1t = H(Wih1 xt + Wh1h1 h1t-1 + Wwh1 wt-1 + b1h)\n",
    "\n",
    "(αhat_t, βhat_t, khat_t) = Wh1p ht^1 + bp  # output of the first hidden layer\n",
    "\n",
    "αt = exp(αhat_t)  # importance of the window\n",
    "βt = exp(βhat_t)  # width of the window\n",
    "κt = κt-1 + exp(κhat_t)  # location of the window (how far to slide each window)\n",
    "\n",
    "φ(t, u) = Σk=1->K αkt*exp(-βkt(κkt-u)^2)  # mixture of K Gaussian\n",
    "\n",
    "\n",
    "cf. \n",
    "normal distribution\n",
    "N(X|μ,σ2) = 1/(2πσ2)^1/2 exp{-1/2σ2(x-μ)2}\n",
    "\n",
    "mixture gaussians\n",
    "p(x) = Σk=1->K πk N(X|μk,Σk)  # where πk:mixing coefficient, μk:mean, Σk:covariance, N(X|μk,Σk):mixture component\n",
    "p(x) = Σk=1->K πk (1/(2π)^D/2 1/|Σ|^1/2) exp{-1/2(x-μ)^T Σ^-1(x-μ)}  # where Σ:DxD dim covariance matrix, |Σ|:det Σ\n",
    "\n",
    "wt = Σu=1->U φ(t, u)*cu  # the soft window into c at timestep t\n",
    "\n",
    "hnt = H(Wihn xt + Whn-1hn hnt-1 + Whnhn hnt-1 + Wwhn wt + bnh)\n",
    "\n",
    "yˆtˆ = (eˆt,{wˆj_t,μˆJ_t,σˆj_t,ρˆj_t}^M_j=1) = by + Σn=1->N Whny hnt\n",
    "yt = Y(yˆt)\n",
    "\n",
    "et = 1 / (1 + exp(eˆt)) ⇒ et∈(0,1) : stroke probability\n",
    "πtj = exp(πtj) / (Σj't=1->M exp(πtj)) ⇒πtj∈(0,1), Σπtj=1 : mixture weights\n",
    "μjt = μˆjt ⇒ μjt∈R : means\n",
    "σtj = exp(σˆtj) ⇒ σˆtj > 0 : std\n",
    "pjt = tanh(pˆtj) ⇒ pˆtj∈(0,1) : correlations\n",
    "\n",
    "Pr(x|c) = ∏t=1->T Pr(xt+1|yt)\n",
    "L(x) = -log Pr(x|c)\n",
    "```"
   ]
  },
  {
   "cell_type": "code",
   "execution_count": 2,
   "metadata": {},
   "outputs": [],
   "source": [
    "# ver.1 hidden 256 out 256\n",
    "# ver.2 hidden 256 out 256 \n",
    "# ver.3 hidden 512 out 512, trainable init param\n",
    "# ver.4 hidden 512 out 512, trainable init param, batchnorm, relu\n",
    "# *ver.5 hidden 512 out 512, trainable init param, batchnorm\n",
    "# lr 0.003"
   ]
  },
  {
   "cell_type": "code",
   "execution_count": 3,
   "metadata": {},
   "outputs": [],
   "source": [
    "model_version = 6\n",
    "batch_size = 1\n",
    "sample_index = 5\n",
    "model_name = f'char2mel_{batch_size}_ver{model_version}_single{sample_index}'\n",
    "cuda = 1"
   ]
  },
  {
   "cell_type": "code",
   "execution_count": 4,
   "metadata": {},
   "outputs": [
    {
     "data": {
      "text/plain": [
       "[(tensor([[[4.3469e-01, 1.9852e-04, 3.2515e-05,  ..., 1.9618e-06,\n",
       "            3.0190e-06, 4.4162e-06],\n",
       "           [3.8609e-01, 1.5164e-04, 4.6574e-05,  ..., 1.2890e-06,\n",
       "            1.9772e-06, 2.8552e-06],\n",
       "           [2.7793e-01, 2.7050e-04, 8.2761e-05,  ..., 3.3026e-07,\n",
       "            4.8114e-07, 6.1693e-07],\n",
       "           ...,\n",
       "           [4.7460e-02, 1.1705e-03, 2.2462e-03,  ..., 1.9071e-07,\n",
       "            1.3145e-07, 4.9778e-08],\n",
       "           [3.3239e-02, 9.7881e-04, 2.3947e-03,  ..., 6.5638e-07,\n",
       "            4.6616e-07, 1.6400e-07],\n",
       "           [2.6419e-02, 1.2667e-03, 2.6865e-03,  ..., 1.1643e-06,\n",
       "            8.4390e-07, 2.8885e-07]]]), tensor([[[0, 0, 0,  ..., 0, 0, 0],\n",
       "           [0, 0, 1,  ..., 0, 0, 0],\n",
       "           [0, 0, 0,  ..., 0, 0, 0],\n",
       "           ...,\n",
       "           [1, 0, 0,  ..., 0, 0, 0],\n",
       "           [0, 1, 0,  ..., 0, 0, 0],\n",
       "           [0, 0, 0,  ..., 0, 0, 0]]]))]"
      ]
     },
     "execution_count": 4,
     "metadata": {},
     "output_type": "execute_result"
    }
   ],
   "source": [
    "dataset = NeuraVoiceDataset(batch_size=batch_size)\n",
    "sampler = SubsetRandomSampler([sample_index])\n",
    "loader = DataLoader(\n",
    "    dataset, batch_size=batch_size, shuffle=False, collate_fn=dataset.char_to_mel, drop_last=False, num_workers=1, sampler=sampler)\n",
    "[d for d in loader]"
   ]
  },
  {
   "cell_type": "code",
   "execution_count": 5,
   "metadata": {},
   "outputs": [
    {
     "data": {
      "text/plain": [
       "['s',\n",
       " 'u',\n",
       " 'm',\n",
       " 'aH',\n",
       " 't',\n",
       " 'o',\n",
       " 'f',\n",
       " 'o',\n",
       " 'N',\n",
       " 'k',\n",
       " 'a',\n",
       " 'r',\n",
       " 'a',\n",
       " 'f',\n",
       " 'iH',\n",
       " 'ch',\n",
       " 'aH',\n",
       " 'f',\n",
       " 'o',\n",
       " 'N',\n",
       " 'm',\n",
       " 'a',\n",
       " 'd',\n",
       " 'e',\n",
       " 'm',\n",
       " 'a',\n",
       " 'r',\n",
       " 'u',\n",
       " 'ch',\n",
       " 'i',\n",
       " 'd',\n",
       " 'e',\n",
       " 'b',\n",
       " 'a',\n",
       " 'i',\n",
       " 's',\n",
       " 'u',\n",
       " 'n',\n",
       " 'i',\n",
       " 't',\n",
       " 'a',\n",
       " 'i',\n",
       " 'oH']"
      ]
     },
     "execution_count": 5,
     "metadata": {},
     "output_type": "execute_result"
    }
   ],
   "source": [
    "cx = None\n",
    "for d in loader:\n",
    "    cx = d[1]\n",
    "phonemes = [np.argmax(a) for a in cx.squeeze(0).numpy()]\n",
    "Phoneme43.to_phoneme_names(phonemes)"
   ]
  },
  {
   "cell_type": "code",
   "execution_count": 6,
   "metadata": {},
   "outputs": [],
   "source": [
    "text = 'スマートフォンからフィーチャーフォンまでマルチデバイスに対応'"
   ]
  },
  {
   "cell_type": "code",
   "execution_count": 7,
   "metadata": {
    "scrolled": false
   },
   "outputs": [
    {
     "data": {
      "text/plain": [
       "('/diskB/6/out/models/char2mel/char2mel_1_ver6_single5_epoch500_lr0.003_loss1-77_48',\n",
       " {'lr': 0.003,\n",
       "  'n_epoch': 500,\n",
       "  'encode_type': 'onehot',\n",
       "  'hidden_size': 512,\n",
       "  'K': 10,\n",
       "  'out_size': 512})"
      ]
     },
     "execution_count": 7,
     "metadata": {},
     "output_type": "execute_result"
    }
   ],
   "source": [
    "model_path, settings = best_model_path_and_settings(model_name, 'loss_ave', is_lower_better=True)\n",
    "model_path, settings"
   ]
  },
  {
   "cell_type": "code",
   "execution_count": 8,
   "metadata": {},
   "outputs": [],
   "source": [
    "device = f'cuda:{cuda}'"
   ]
  },
  {
   "cell_type": "code",
   "execution_count": 9,
   "metadata": {},
   "outputs": [],
   "source": [
    "use_best_model = True"
   ]
  },
  {
   "cell_type": "code",
   "execution_count": 10,
   "metadata": {
    "scrolled": false
   },
   "outputs": [
    {
     "name": "stdout",
     "output_type": "stream",
     "text": [
      "model version 6\n",
      "Trainable Parameters: 5.600 million\n"
     ]
    }
   ],
   "source": [
    "if model_path and use_best_model: model = CharToMel.init_from_settings(settings, model_path, device=device, **{'version': model_version})\n",
    "else:                             model = CharToMel(encode_type='onehot', K=10, hidden_size=512, out_size=512, version=model_version, device=device)"
   ]
  },
  {
   "cell_type": "code",
   "execution_count": 11,
   "metadata": {
    "scrolled": true
   },
   "outputs": [
    {
     "name": "stdout",
     "output_type": "stream",
     "text": [
      "epoch 99/499 iter: 0/7614 total_iter: 100-- loss ave: 0.4756 loss: 0.01 -- elapse: 12m 28s speed 0.1 steps/sec\n",
      "model name:char2mel_1_ver6_single5 id:5caee5bc1446828794226deb saving path generated.\n",
      "best score. save model.\n",
      "trying to save model parameters odict_keys(['h1_0', 'h2_0', 'h3_0', 'w_0', 'H1.weight_ih', 'H1.weight_hh', 'H1.bias_ih', 'H1.bias_hh', 'H2.weight_ih', 'H2.weight_hh', 'H2.bias_ih', 'H2.bias_hh', 'H3.weight_ih', 'H3.weight_hh', 'H3.bias_ih', 'H3.bias_hh', 'window.Wh1p.weight', 'window.Wh1p.bias', 'Wh1y.weight', 'Wh1y.bias', 'Wh2y.weight', 'Wh2y.bias', 'Wh3y.weight', 'Wh3y.bias', 'Y.weight', 'Y.bias']) to /diskB/6/out/models/char2mel/char2mel_1_ver6_single5_epoch500_lr0.003_loss0-476_49 ..\n",
      "epoch 199/499 iter: 0/7614 total_iter: 200-- loss ave: 0.2423 loss: 0.00 -- elapse: 24m 57s speed 0.1 steps/sec\n",
      "model name:char2mel_1_ver6_single5 id:5caee8a91446828794226dec saving path generated.\n",
      "best score. save model.\n",
      "trying to save model parameters odict_keys(['h1_0', 'h2_0', 'h3_0', 'w_0', 'H1.weight_ih', 'H1.weight_hh', 'H1.bias_ih', 'H1.bias_hh', 'H2.weight_ih', 'H2.weight_hh', 'H2.bias_ih', 'H2.bias_hh', 'H3.weight_ih', 'H3.weight_hh', 'H3.bias_ih', 'H3.bias_hh', 'window.Wh1p.weight', 'window.Wh1p.bias', 'Wh1y.weight', 'Wh1y.bias', 'Wh2y.weight', 'Wh2y.bias', 'Wh3y.weight', 'Wh3y.bias', 'Y.weight', 'Y.bias']) to /diskB/6/out/models/char2mel/char2mel_1_ver6_single5_epoch500_lr0.003_loss0-242_50 ..\n",
      "epoch 299/499 iter: 0/7614 total_iter: 300-- loss ave: 0.1620 loss: 0.00 -- elapse: 37m 26s speed 0.1 steps/sec\n",
      "model name:char2mel_1_ver6_single5 id:5caeeb971446828794226ded saving path generated.\n",
      "best score. save model.\n",
      "trying to save model parameters odict_keys(['h1_0', 'h2_0', 'h3_0', 'w_0', 'H1.weight_ih', 'H1.weight_hh', 'H1.bias_ih', 'H1.bias_hh', 'H2.weight_ih', 'H2.weight_hh', 'H2.bias_ih', 'H2.bias_hh', 'H3.weight_ih', 'H3.weight_hh', 'H3.bias_ih', 'H3.bias_hh', 'window.Wh1p.weight', 'window.Wh1p.bias', 'Wh1y.weight', 'Wh1y.bias', 'Wh2y.weight', 'Wh2y.bias', 'Wh3y.weight', 'Wh3y.bias', 'Y.weight', 'Y.bias']) to /diskB/6/out/models/char2mel/char2mel_1_ver6_single5_epoch500_lr0.003_loss0-162_51 ..\n",
      "epoch 399/499 iter: 0/7614 total_iter: 400-- loss ave: 0.1227 loss: 0.00 -- elapse: 56m 34s speed 0.1 steps/sec\n",
      "model name:char2mel_1_ver6_single5 id:5caef0121446828794226dee saving path generated.\n",
      "best score. save model.\n",
      "trying to save model parameters odict_keys(['h1_0', 'h2_0', 'h3_0', 'w_0', 'H1.weight_ih', 'H1.weight_hh', 'H1.bias_ih', 'H1.bias_hh', 'H2.weight_ih', 'H2.weight_hh', 'H2.bias_ih', 'H2.bias_hh', 'H3.weight_ih', 'H3.weight_hh', 'H3.bias_ih', 'H3.bias_hh', 'window.Wh1p.weight', 'window.Wh1p.bias', 'Wh1y.weight', 'Wh1y.bias', 'Wh2y.weight', 'Wh2y.bias', 'Wh3y.weight', 'Wh3y.bias', 'Y.weight', 'Y.bias']) to /diskB/6/out/models/char2mel/char2mel_1_ver6_single5_epoch500_lr0.003_loss0-123_52 ..\n",
      "epoch 499/499 iter: 0/7614 total_iter: 500-- loss ave: 0.0984 loss: 0.01 -- elapse: 1h 15m 39s speed 0.1 steps/sec\n",
      "model name:char2mel_1_ver6_single5 id:5caef48c1446828794226def saving path generated.\n",
      "best score. save model.\n",
      "trying to save model parameters odict_keys(['h1_0', 'h2_0', 'h3_0', 'w_0', 'H1.weight_ih', 'H1.weight_hh', 'H1.bias_ih', 'H1.bias_hh', 'H2.weight_ih', 'H2.weight_hh', 'H2.bias_ih', 'H2.bias_hh', 'H3.weight_ih', 'H3.weight_hh', 'H3.bias_ih', 'H3.bias_hh', 'window.Wh1p.weight', 'window.Wh1p.bias', 'Wh1y.weight', 'Wh1y.bias', 'Wh2y.weight', 'Wh2y.bias', 'Wh3y.weight', 'Wh3y.bias', 'Y.weight', 'Y.bias']) to /diskB/6/out/models/char2mel/char2mel_1_ver6_single5_epoch500_lr0.003_loss0-098_53 ..\n"
     ]
    }
   ],
   "source": [
    "losses, loss_aves, model = train_char2mel(\n",
    "    model, loader, n_epoch=500, model_name=model_name, device=device, check_interval=100, lr=0.0001, verbose=False)"
   ]
  },
  {
   "cell_type": "code",
   "execution_count": 12,
   "metadata": {},
   "outputs": [
    {
     "data": {
      "image/png": "[encoded data removed]",
      "text/plain": [
       "<Figure size 2160x360 with 1 Axes>"
      ]
     },
     "metadata": {
      "needs_background": "dark"
     },
     "output_type": "display_data"
    }
   ],
   "source": [
    "plot(loss_aves)"
   ]
  },
  {
   "cell_type": "code",
   "execution_count": 13,
   "metadata": {},
   "outputs": [
    {
     "data": {
      "image/png": "[encoded data removed]",
      "text/plain": [
       "<Figure size 2160x360 with 1 Axes>"
      ]
     },
     "metadata": {
      "needs_background": "dark"
     },
     "output_type": "display_data"
    }
   ],
   "source": [
    "plots([losses, loss_aves], labels=['losses', 'loss_aves'])"
   ]
  }
 ],
 "metadata": {
  "kernelspec": {
   "display_name": "Python 3",
   "language": "python",
   "name": "python3"
  },
  "language_info": {
   "codemirror_mode": {
    "name": "ipython",
    "version": 3
   },
   "file_extension": ".py",
   "mimetype": "text/x-python",
   "name": "python",
   "nbconvert_exporter": "python",
   "pygments_lexer": "ipython3",
   "version": "3.7.3"
  }
 },
 "nbformat": 4,
 "nbformat_minor": 2
}
